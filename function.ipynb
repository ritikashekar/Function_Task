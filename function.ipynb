{
 "cells": [
  {
   "cell_type": "markdown",
   "metadata": {},
   "source": [
    "### Function for addition of two numbers"
   ]
  },
  {
   "cell_type": "code",
   "execution_count": 5,
   "metadata": {},
   "outputs": [
    {
     "name": "stdout",
     "output_type": "stream",
     "text": [
      "val1+val2 = 70+50 = 120\n"
     ]
    }
   ],
   "source": [
    "def addValue(val1,val2):\n",
    "    result = val1 + val2\n",
    "    print(f'val1+val2 = {val1}+{val2} = {result}')\n",
    "\n",
    "addValue(70,50)"
   ]
  },
  {
   "cell_type": "markdown",
   "metadata": {},
   "source": [
    "### Function for multiplication of two numbers"
   ]
  },
  {
   "cell_type": "code",
   "execution_count": 6,
   "metadata": {},
   "outputs": [
    {
     "name": "stdout",
     "output_type": "stream",
     "text": [
      "m1*m2 = 16*2 = 32\n"
     ]
    }
   ],
   "source": [
    "def multiValue(m1,m2):\n",
    "    result = m1 * m2\n",
    "    print(f'm1*m2 = {m1}*{m2} = {result}')\n",
    "\n",
    "multiValue(16,2)"
   ]
  },
  {
   "cell_type": "markdown",
   "metadata": {},
   "source": [
    "### Function for division of two numbers"
   ]
  },
  {
   "cell_type": "code",
   "execution_count": 11,
   "metadata": {},
   "outputs": [
    {
     "name": "stdout",
     "output_type": "stream",
     "text": [
      "d1/d2 = 45/15 = 3.0\n"
     ]
    }
   ],
   "source": [
    "def divValue(d1,d2):\n",
    "    result = d1 / d2\n",
    "    print(f'd1/d2 = {d1}/{d2} = {result}')\n",
    "\n",
    "divValue(45,15)"
   ]
  },
  {
   "cell_type": "markdown",
   "metadata": {},
   "source": [
    "## Comparison function\n"
   ]
  },
  {
   "cell_type": "code",
   "execution_count": 7,
   "metadata": {},
   "outputs": [
    {
     "name": "stdout",
     "output_type": "stream",
     "text": [
      "num1 > num2 = 40>60 = False\n",
      "num1 > num2 = 100>80 = True\n"
     ]
    }
   ],
   "source": [
    "def compare(num1,num2):\n",
    "    result = num1 > num2\n",
    "    print(f'num1 > num2 = {num1}>{num2} = {result}')\n",
    "\n",
    "compare(40,60)\n",
    "compare(100,80)"
   ]
  },
  {
   "cell_type": "markdown",
   "metadata": {},
   "source": [
    "## return function"
   ]
  },
  {
   "cell_type": "code",
   "execution_count": 8,
   "metadata": {},
   "outputs": [
    {
     "name": "stdout",
     "output_type": "stream",
     "text": [
      "v1>v2 = 100>80 = True\n",
      "output = True\n"
     ]
    }
   ],
   "source": [
    "def checkValue(v1,v2):\n",
    "    result = v1 > v2\n",
    "    print(f'v1>v2 = {v1}>{v2} = {result}')\n",
    "    return result\n",
    "\n",
    "output= checkValue(100,80)\n",
    "print(f'output = {output}')\n"
   ]
  },
  {
   "cell_type": "code",
   "execution_count": 9,
   "metadata": {},
   "outputs": [
    {
     "name": "stdout",
     "output_type": "stream",
     "text": [
      "val1/val2 = 150/30 = 5.0\n",
      "output = 5.0\n"
     ]
    }
   ],
   "source": [
    "def check(val1,val2):\n",
    "    result = val1/val2\n",
    "    print(f'val1/val2 = {val1}/{val2} = {result}')\n",
    "    return result\n",
    "\n",
    "output = check(150,30)\n",
    "print(f'output = {output}')"
   ]
  }
 ],
 "metadata": {
  "kernelspec": {
   "display_name": "Python 3",
   "language": "python",
   "name": "python3"
  },
  "language_info": {
   "codemirror_mode": {
    "name": "ipython",
    "version": 3
   },
   "file_extension": ".py",
   "mimetype": "text/x-python",
   "name": "python",
   "nbconvert_exporter": "python",
   "pygments_lexer": "ipython3",
   "version": "3.12.4"
  }
 },
 "nbformat": 4,
 "nbformat_minor": 2
}
